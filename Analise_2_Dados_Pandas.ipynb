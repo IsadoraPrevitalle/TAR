{
  "nbformat": 4,
  "nbformat_minor": 0,
  "metadata": {
    "colab": {
      "provenance": [],
      "authorship_tag": "ABX9TyNBSDDwWAeqqJWLJrf41uCY",
      "include_colab_link": true
    },
    "kernelspec": {
      "name": "python3",
      "display_name": "Python 3"
    },
    "language_info": {
      "name": "python"
    }
  },
  "cells": [
    {
      "cell_type": "markdown",
      "metadata": {
        "id": "view-in-github",
        "colab_type": "text"
      },
      "source": [
        "<a href=\"https://colab.research.google.com/github/IsadoraPrevitalle/TAR/blob/Introdu%C3%A7%C3%A3o/Analise_2_Dados_Pandas.ipynb\" target=\"_parent\"><img src=\"https://colab.research.google.com/assets/colab-badge.svg\" alt=\"Open In Colab\"/></a>"
      ]
    },
    {
      "cell_type": "code",
      "execution_count": null,
      "metadata": {
        "id": "MgORU4viBDMO"
      },
      "outputs": [],
      "source": [
        "import pandas as pd"
      ]
    },
    {
      "cell_type": "markdown",
      "source": [
        "Criando uma coluna de Dados númericos que representam o rendimento salarial de nossos clientes Pessoa Fisica para calcular uma média, minímo e maximo de rendimento que os mesmos podem garantir em nossa plataforma"
      ],
      "metadata": {
        "id": "c6GElC3lELXK"
      }
    },
    {
      "cell_type": "code",
      "source": [
        "ind = ['Empregado no setor privado, exclusive trabalhador doméstico'\n",
        ",'Empregado no setor privado, exclusive trabalhador doméstico - sem carteira de trabalho assinada'\n",
        ",'Trabalhador doméstico'\n",
        ",'Trabalhador doméstico - com carteira de trabalho assinada'\n",
        ",'Trabalhador doméstico - sem carteira de trabalho assinada'\n",
        ",'Empregado no setor público, exclusive militar e funcionário público estatutário - sem carteira de trabalho assinada'\n",
        ",'Conta própria']\n",
        "\n",
        "PessFisc = [3031,2877,1241,1614,1080,3095,2697]\n",
        "\n",
        "trab = pd.Series(PessFisc, index = ind, name = 'Rendimento dos Trabalhadores')\n",
        "\n",
        "print(trab)"
      ],
      "metadata": {
        "colab": {
          "base_uri": "https://localhost:8080/"
        },
        "id": "FZ_t_scdBkoi",
        "outputId": "343665f9-ffc1-4545-da81-f688a6cba8a7"
      },
      "execution_count": null,
      "outputs": [
        {
          "output_type": "stream",
          "name": "stdout",
          "text": [
            "Empregado no setor privado, exclusive trabalhador doméstico                                                            3031\n",
            "Empregado no setor privado, exclusive trabalhador doméstico - sem carteira de trabalho assinada                        2877\n",
            "Trabalhador doméstico                                                                                                  1241\n",
            "Trabalhador doméstico - com carteira de trabalho assinada                                                              1614\n",
            "Trabalhador doméstico - sem carteira de trabalho assinada                                                              1080\n",
            "Empregado no setor público, exclusive militar e funcionário público estatutário - sem carteira de trabalho assinada    3095\n",
            "Conta própria                                                                                                          2697\n",
            "Name: Rendimento dos Trabalhadores, dtype: int64\n"
          ]
        }
      ]
    },
    {
      "cell_type": "markdown",
      "source": [
        "Calculo da média salarial, salario minimo e maximo"
      ],
      "metadata": {
        "id": "7c23lHc2E6n8"
      }
    },
    {
      "cell_type": "code",
      "source": [
        "print('Média Salarial',trab.mean())\n",
        "print('Valor maximo',trab.max())\n",
        "print('Valor minimo',trab.min())"
      ],
      "metadata": {
        "colab": {
          "base_uri": "https://localhost:8080/"
        },
        "id": "CE4looiMFBa9",
        "outputId": "e7a5530d-d185-434d-81dd-9c0d711f681f"
      },
      "execution_count": null,
      "outputs": [
        {
          "output_type": "stream",
          "name": "stdout",
          "text": [
            "Média Salarial 2233.5714285714284\n",
            "Valor maximo 3095\n",
            "Valor minimo 1080\n"
          ]
        }
      ]
    },
    {
      "cell_type": "markdown",
      "source": [
        "Criando uma coluna de Dados númericos que representam a desocupação de nossos clientes Pessoa Fisica para calcular uma média, minímo e maximo de desempregados por categoria"
      ],
      "metadata": {
        "id": "CbknQBcmIwey"
      }
    },
    {
      "cell_type": "code",
      "source": [
        "ind = ['Empregado no setor privado, exclusive trabalhador doméstico'\n",
        ",'Empregado no setor privado, exclusive trabalhador doméstico - sem carteira de trabalho assinada'\n",
        ",'Trabalhador doméstico'\n",
        ",'Trabalhador doméstico - com carteira de trabalho assinada'\n",
        ",'Trabalhador doméstico - sem carteira de trabalho assinada'\n",
        ",'Empregado no setor público, exclusive militar e funcionário público estatutário - sem carteira de trabalho assinada'\n",
        ",'Conta própria']\n",
        "\n",
        "DesCat = [13635,2590,1384,414,917,176,5510]\n",
        "\n",
        "trab = pd.Series(DesCat, index = ind, name = 'Desocupação dos Trabalhadores')\n",
        "\n",
        "\n",
        "print('Média',trab.mean())\n",
        "print('Maximo',trab.max())\n",
        "print('Minimo',trab.min())"
      ],
      "metadata": {
        "colab": {
          "base_uri": "https://localhost:8080/"
        },
        "id": "d97GYuQoJN08",
        "outputId": "f0e5f060-8eee-4fbf-f6ed-728a1afab692"
      },
      "execution_count": null,
      "outputs": [
        {
          "output_type": "stream",
          "name": "stdout",
          "text": [
            "Média 3518.0\n",
            "Maximo 13635\n",
            "Minimo 176\n"
          ]
        }
      ]
    },
    {
      "cell_type": "markdown",
      "source": [
        "Criação de uma tabela de desocupação por idade, para analisar a maior e menor quantidade de desempregados de acordo com a idade, e uma média geral com faixa etária de 14 anos ou mais"
      ],
      "metadata": {
        "id": "LleBpdUgF7IY"
      }
    },
    {
      "cell_type": "code",
      "source": [
        "ind = ['14 a 17 anos'\n",
        ",'18 a 24 anos'\n",
        ",'25 a 39 anos'\n",
        ",'40 a 59 anos'\n",
        ",'60 anos ou mais']\n",
        "\n",
        "PessFisc = [2356,4772,11297,12626,7673]\n",
        "\n",
        "idd = pd.Series(PessFisc, index = ind, name = 'Desocupação por idade')\n",
        "\n",
        "print(idd)"
      ],
      "metadata": {
        "colab": {
          "base_uri": "https://localhost:8080/"
        },
        "id": "HFcQIa6KGOqa",
        "outputId": "23418a12-622e-43b5-efd3-0e9c187d159d"
      },
      "execution_count": null,
      "outputs": [
        {
          "output_type": "stream",
          "name": "stdout",
          "text": [
            "14 a 17 anos        2356\n",
            "18 a 24 anos        4772\n",
            "25 a 39 anos       11297\n",
            "40 a 59 anos       12626\n",
            "60 anos ou mais     7673\n",
            "Name: Desocupação por idade, dtype: int64\n"
          ]
        }
      ]
    },
    {
      "cell_type": "code",
      "source": [
        "print(#Como retornar o indice de maior idd junto do resultado\n",
        "      idd.max())\n",
        "print(idd.min())\n",
        "print(idd.mean())\n"
      ],
      "metadata": {
        "colab": {
          "base_uri": "https://localhost:8080/"
        },
        "id": "hkxbi7X6HZok",
        "outputId": "b61b67d0-f886-47f1-a269-0b677ab033d4"
      },
      "execution_count": null,
      "outputs": [
        {
          "output_type": "stream",
          "name": "stdout",
          "text": [
            "12626\n",
            "2356\n",
            "7744.8\n"
          ]
        }
      ]
    }
  ]
}